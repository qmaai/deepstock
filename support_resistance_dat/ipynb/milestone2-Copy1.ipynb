{
 "cells": [
  {
   "cell_type": "code",
   "execution_count": 77,
   "metadata": {
    "collapsed": true
   },
   "outputs": [],
   "source": [
    "import numpy as np\n",
    "import pandas as pd\n",
    "from matplotlib import pyplot as plt"
   ]
  },
  {
   "cell_type": "code",
   "execution_count": 78,
   "metadata": {},
   "outputs": [
    {
     "name": "stdout",
     "output_type": "stream",
     "text": [
      "0    104.22\n",
      "1    104.67\n",
      "2    104.02\n",
      "3    104.12\n",
      "4    104.53\n",
      "5    104.30\n",
      "6    105.23\n",
      "7    103.96\n",
      "8    103.71\n",
      "9    102.83\n",
      "Name: Close, dtype: float64\n"
     ]
    }
   ],
   "source": [
    "date_parser = lambda x: pd.datetime.strptime(x, '%Y-%m-%d %H:%M:%S')\n",
    "tpdata = pd.read_table(\"%40CL_Daily.txt\",delimiter=',',header=0,parse_dates=[['Date','Time']],usecols=['Date','Time','Close'])\n",
    "print(tpdata['Close'][:10])"
   ]
  },
  {
   "cell_type": "code",
   "execution_count": 79,
   "metadata": {
    "collapsed": true
   },
   "outputs": [],
   "source": [
    "from scipy.signal import savgol_filter as smooth\n",
    "# this function returns the local maxima and the minima\n",
    "# ltp is a list of [date, price]\n",
    "# n is the width of window to examine max and min\n",
    "# n has to be an odd number greater than 3\n",
    "# return: max and min [(date,price),(date,price),(),(),...]\n",
    "def max_min(ltp,n):\n",
    "    ltp_sm = smooth(ltp['Close'],n,3)\n",
    "    max_points = []\n",
    "    min_points = []\n",
    "    ltp_dif = np.zeros(ltp_sm.shape[0]-1)\n",
    "    ltp_dif = ltp_sm[1:]-ltp_sm[:-1]\n",
    "    center = int((n-1)/2)\n",
    "    for i in range(ltp_dif.shape[0]-n+2):\n",
    "        window = ltp_dif[i:i+n-1]\n",
    "        front = window[:center]\n",
    "        back = window[center:]\n",
    "        s_first = np.sum(front<0)\n",
    "        s_back = np.sum(back>0)\n",
    "        r_first = np.sum(front>0)\n",
    "        r_back = np.sum(back<0)\n",
    "        if(r_first == center and r_back == center):\n",
    "            max_points.append((ltp['Date_Time'][i+center],ltp['Close'][i+center]))\n",
    "            # print(ltp[i+center])\n",
    "        if(s_first== center and s_back== center):\n",
    "            min_points.append((ltp['Date_Time'][i+center],ltp['Close'][i+center]))\n",
    "            # print(ltp[i+center])\n",
    "    return max_points,min_points\n",
    "scanning_window=5"
   ]
  },
  {
   "cell_type": "code",
   "execution_count": 80,
   "metadata": {},
   "outputs": [
    {
     "name": "stdout",
     "output_type": "stream",
     "text": [
      "[(Timestamp('2002-01-28 17:00:00'), 95.519999999999996), (Timestamp('2002-02-04 17:00:00'), 95.609999999999999), (Timestamp('2001-11-21 17:00:00'), 95.659999999999997), (Timestamp('2001-12-19 17:00:00'), 95.689999999999998), (Timestamp('2001-12-27 17:00:00'), 96.450000000000003), (Timestamp('2001-12-05 17:00:00'), 96.560000000000002), (Timestamp('2002-02-15 17:00:00'), 96.819999999999993), (Timestamp('2002-01-07 17:00:00'), 97.340000000000003), (Timestamp('2001-11-12 17:00:00'), 98.280000000000001), (Timestamp('2001-10-10 17:00:00'), 99.659999999999997), (Timestamp('2002-03-20 17:00:00'), 99.909999999999997), (Timestamp('2001-10-01 17:00:00'), 100.14), (Timestamp('2002-06-03 17:00:00'), 101.11), (Timestamp('2002-04-19 17:00:00'), 101.41), (Timestamp('2002-06-17 17:00:00'), 102.11), (Timestamp('2002-04-30 17:00:00'), 102.34999999999999), (Timestamp('2002-06-28 17:00:00'), 102.43000000000001), (Timestamp('2002-04-03 17:00:00'), 102.59), (Timestamp('2002-07-18 17:00:00'), 103.31999999999999), (Timestamp('2002-10-30 17:00:00'), 103.47), (Timestamp('2002-11-22 17:00:00'), 104.06), (Timestamp('2001-08-13 17:00:00'), 104.3), (Timestamp('2001-08-22 17:00:00'), 104.3), (Timestamp('2001-08-28 17:00:00'), 104.39), (Timestamp('2002-12-03 17:00:00'), 104.90000000000001), (Timestamp('2001-09-07 17:00:00'), 105.25), (Timestamp('2002-08-30 17:00:00'), 105.79000000000001), (Timestamp('2001-09-17 17:00:00'), 106.58), (Timestamp('2002-10-15 17:00:00'), 106.65000000000001), (Timestamp('2003-04-10 17:00:00'), 109.27), (Timestamp('2002-12-26 17:00:00'), 109.31999999999999), (Timestamp('2003-01-03 17:00:00'), 110.75), (Timestamp('2003-03-31 17:00:00'), 111.61), (Timestamp('2003-04-21 17:00:00'), 111.66), (Timestamp('2003-01-24 17:00:00'), 112.37), (Timestamp('2003-05-23 17:00:00'), 112.73999999999999), (Timestamp('2003-02-07 17:00:00'), 114.20999999999999), (Timestamp('2003-07-01 17:00:00'), 115.3), (Timestamp('2003-06-11 17:00:00'), 115.81999999999999), (Timestamp('2003-02-14 17:00:00'), 115.89), (Timestamp('2003-07-17 17:00:00'), 116.37), (Timestamp('2003-08-22 17:00:00'), 117.31999999999999), (Timestamp('2003-02-27 17:00:00'), 118.84999999999999)]\n",
      "[(Timestamp('2001-11-19 17:00:00'), 93.879999999999995), (Timestamp('2002-01-22 17:00:00'), 94.459999999999994), (Timestamp('2002-01-30 17:00:00'), 94.670000000000002), (Timestamp('2001-12-12 17:00:00'), 94.680000000000007), (Timestamp('2001-11-26 17:00:00'), 95.0), (Timestamp('2001-12-25 17:00:00'), 95.510000000000005), (Timestamp('2002-02-26 17:00:00'), 95.689999999999998), (Timestamp('2002-01-01 17:00:00'), 95.730000000000004), (Timestamp('2001-11-07 17:00:00'), 96.569999999999993), (Timestamp('2001-09-25 17:00:00'), 98.670000000000002), (Timestamp('2002-04-15 17:00:00'), 99.030000000000001), (Timestamp('2001-10-04 17:00:00'), 99.489999999999995), (Timestamp('2002-03-22 17:00:00'), 99.930000000000007), (Timestamp('2002-06-11 17:00:00'), 99.969999999999999), (Timestamp('2002-05-06 17:00:00'), 100.78), (Timestamp('2002-05-29 17:00:00'), 100.89), (Timestamp('2002-04-24 17:00:00'), 101.08), (Timestamp('2002-06-20 17:00:00'), 101.45999999999999), (Timestamp('2002-07-09 17:00:00'), 101.66), (Timestamp('2002-11-15 17:00:00'), 101.93000000000001), (Timestamp('2001-08-17 17:00:00'), 102.83), (Timestamp('2002-10-28 17:00:00'), 103.48999999999999), (Timestamp('2002-11-26 17:00:00'), 103.5), (Timestamp('2001-08-30 17:00:00'), 103.77), (Timestamp('2001-08-09 17:00:00'), 104.12), (Timestamp('2001-08-24 17:00:00'), 104.12), (Timestamp('2002-12-05 17:00:00'), 104.23999999999999), (Timestamp('2002-09-04 17:00:00'), 104.75), (Timestamp('2001-09-11 17:00:00'), 104.98999999999999), (Timestamp('2002-09-17 17:00:00'), 105.64), (Timestamp('2003-03-21 17:00:00'), 107.7), (Timestamp('2003-04-29 17:00:00'), 107.95), (Timestamp('2003-01-08 17:00:00'), 108.14), (Timestamp('2003-04-14 17:00:00'), 108.55), (Timestamp('2003-01-01 17:00:00'), 108.87), (Timestamp('2003-04-08 17:00:00'), 108.88), (Timestamp('2003-01-28 17:00:00'), 111.79000000000001), (Timestamp('2003-05-28 17:00:00'), 112.08), (Timestamp('2003-02-11 17:00:00'), 113.72), (Timestamp('2003-06-23 17:00:00'), 114.09), (Timestamp('2003-07-07 17:00:00'), 115.05), (Timestamp('2003-02-18 17:00:00'), 115.48999999999999), (Timestamp('2003-07-25 17:00:00'), 115.79000000000001), (Timestamp('2003-03-03 17:00:00'), 116.2), (Timestamp('2003-08-19 17:00:00'), 116.31999999999999)]\n"
     ]
    }
   ],
   "source": [
    "# sort the max and min according to the price.\n",
    "# this facilitate clustering in next step\n",
    "maxima,minima = max_min(tpdata[:500],scanning_window)\n",
    "max_points = sorted(maxima, key=lambda x: x[1])\n",
    "min_points = sorted(minima, key=lambda x: x[1])\n",
    "# max_pair = maxima[maxima[:,1].argsort()]\n",
    "# min_pair = minima[minima[:,1].argsort()]\n",
    "print(max_points)\n",
    "print(min_points)"
   ]
  },
  {
   "cell_type": "code",
   "execution_count": 106,
   "metadata": {
    "collapsed": true
   },
   "outputs": [],
   "source": [
    "# this function take in sorted date-price tupel and find the cluster\n",
    "# according to price and threshold given\n",
    "# it return a group in shape [[(date,price),(date,price),()...],[],...]\n",
    "def cluster(pairs, threshold):\n",
    "    groups = []\n",
    "    current = []\n",
    "    vl = 0\n",
    "    for pair in pairs:\n",
    "        # print(pair)\n",
    "        if not current:\n",
    "            current.append(pair)\n",
    "            vl = pair[1]\n",
    "            #print('1')\n",
    "        elif pair[1]-vl<threshold:\n",
    "            current.append(pair)\n",
    "            #print('2')\n",
    "        else:\n",
    "            if len(current)>1:\n",
    "                groups.append(sorted(current))\n",
    "            vl = pair[1]\n",
    "            current = [pair]\n",
    "            #print('3')\n",
    "    return groups\n",
    "cluster_threshold = 0.8"
   ]
  },
  {
   "cell_type": "code",
   "execution_count": 107,
   "metadata": {},
   "outputs": [
    {
     "name": "stdout",
     "output_type": "stream",
     "text": [
      "15\n",
      "\n",
      "[[(Timestamp('2001-11-21 17:00:00'), 95.659999999999997), (Timestamp('2001-12-19 17:00:00'), 95.689999999999998), (Timestamp('2002-01-28 17:00:00'), 95.519999999999996), (Timestamp('2002-02-04 17:00:00'), 95.609999999999999)], [(Timestamp('2001-12-05 17:00:00'), 96.560000000000002), (Timestamp('2001-12-27 17:00:00'), 96.450000000000003), (Timestamp('2002-02-15 17:00:00'), 96.819999999999993)], [(Timestamp('2001-10-01 17:00:00'), 100.14), (Timestamp('2001-10-10 17:00:00'), 99.659999999999997), (Timestamp('2002-03-20 17:00:00'), 99.909999999999997)], [(Timestamp('2002-04-19 17:00:00'), 101.41), (Timestamp('2002-06-03 17:00:00'), 101.11)], [(Timestamp('2002-04-03 17:00:00'), 102.59), (Timestamp('2002-04-30 17:00:00'), 102.34999999999999), (Timestamp('2002-06-17 17:00:00'), 102.11), (Timestamp('2002-06-28 17:00:00'), 102.43000000000001)], [(Timestamp('2002-07-18 17:00:00'), 103.31999999999999), (Timestamp('2002-10-30 17:00:00'), 103.47), (Timestamp('2002-11-22 17:00:00'), 104.06)], [(Timestamp('2001-08-13 17:00:00'), 104.3), (Timestamp('2001-08-22 17:00:00'), 104.3), (Timestamp('2001-08-28 17:00:00'), 104.39), (Timestamp('2002-12-03 17:00:00'), 104.90000000000001)], [(Timestamp('2001-09-07 17:00:00'), 105.25), (Timestamp('2002-08-30 17:00:00'), 105.79000000000001)], [(Timestamp('2001-09-17 17:00:00'), 106.58), (Timestamp('2002-10-15 17:00:00'), 106.65000000000001)], [(Timestamp('2002-12-26 17:00:00'), 109.31999999999999), (Timestamp('2003-04-10 17:00:00'), 109.27)], [(Timestamp('2003-01-24 17:00:00'), 112.37), (Timestamp('2003-03-31 17:00:00'), 111.61), (Timestamp('2003-04-21 17:00:00'), 111.66)], [(Timestamp('2003-02-14 17:00:00'), 115.89), (Timestamp('2003-06-11 17:00:00'), 115.81999999999999), (Timestamp('2003-07-01 17:00:00'), 115.3)]]\n"
     ]
    }
   ],
   "source": [
    "# max_points clustted together is called max_group\n",
    "max_group = cluster(max_points,cluster_threshold)\n",
    "min_group = cluster(min_points,cluster_threshold)\n",
    "print(len(min_group))\n",
    "print()\n",
    "print(max_group)"
   ]
  },
  {
   "cell_type": "markdown",
   "metadata": {},
   "source": [
    "transfer back to numpy array for easiness to index\n",
    "they are tuple in prior steps because np array only support\n",
    "one dtype. String and float can not co-exist. For sorting and\n",
    "clustering purposes, they have to be converted to tuple"
   ]
  },
  {
   "cell_type": "code",
   "execution_count": 108,
   "metadata": {
    "collapsed": true
   },
   "outputs": [],
   "source": [
    "# assumes each group in group list is sorted already\n",
    "# data is the total data [date,price]. Date should be in datetime64[D]\n",
    "# the output is of shape [[[date],[price]],[[date],[price]],...]\n",
    "def into_arr(group_list,data,threshold,support=True):\n",
    "    groups=[]\n",
    "    for group in group_list:\n",
    "        # extract date, price\n",
    "        date = np.asarray(group)[:,0]\n",
    "        price = np.asarray(group)[:,1]\n",
    "        price = price.astype(np.float)\n",
    "        # form line, calculate when line start and stop\n",
    "        average_price = np.average(price)\n",
    "        mask_inside_range = np.bitwise_and(data[:,0] > date[0],data[:,0]<date[-1])\n",
    "        mask_after = data[:,0]>date[-1]\n",
    "        # the [1] is for removing the automatic index\n",
    "        last_date = data[:,0][-1]\n",
    "        if support:\n",
    "            break_through = data[:,1] < np.min(price)\n",
    "        else:\n",
    "            break_through = data[:,1] > np.max(price)\n",
    "        #eliminate the chance the resistance is fake.\n",
    "        if np.sum(np.bitwise_and(mask_inside_range,break_through))>1:\n",
    "            continue\n",
    "        break_through = np.bitwise_and(mask_after,break_through)\n",
    "        if np.sum(break_through) > 0:\n",
    "            # the support stops somewhere\n",
    "            last_date = data[:,0][np.argwhere(break_through)[0][0]]\n",
    "#         print(\"the current group is \")\n",
    "#         print(group)\n",
    "#         print(last_date, end=\" \")\n",
    "#         if(len(np.argwhere(break_through))>0):\n",
    "#             print(data[:,1][np.argwhere(break_through)[0][0]])\n",
    "#         else:\n",
    "#             print(data[:,1][-1])\n",
    "#         print('average price', end=' ')\n",
    "#         print(average_price)\n",
    "        date_range = pd.date_range(date[0],last_date)\n",
    "        df = pd.DataFrame({'support':[average_price for i in range(date_range.shape[0])]},index=date_range)\n",
    "        if(not support):\n",
    "            df.rename(columns={'support':'resistance'}, inplace=True)\n",
    "        groups.append(df)\n",
    "    return groups"
   ]
  },
  {
   "cell_type": "code",
   "execution_count": 109,
   "metadata": {
    "scrolled": true
   },
   "outputs": [
    {
     "name": "stdout",
     "output_type": "stream",
     "text": [
      "the current group is \n",
      "[(Timestamp('2001-11-21 17:00:00'), 95.659999999999997), (Timestamp('2001-12-19 17:00:00'), 95.689999999999998), (Timestamp('2002-01-28 17:00:00'), 95.519999999999996), (Timestamp('2002-02-04 17:00:00'), 95.609999999999999)]\n",
      "2002-02-12 17:00:00 96.49\n",
      "average price 95.62\n",
      "the current group is \n",
      "[(Timestamp('2001-12-05 17:00:00'), 96.560000000000002), (Timestamp('2001-12-27 17:00:00'), 96.450000000000003), (Timestamp('2002-02-15 17:00:00'), 96.819999999999993)]\n",
      "2002-03-01 17:00:00 97.48\n",
      "average price 96.61\n",
      "the current group is \n",
      "[(Timestamp('2001-10-01 17:00:00'), 100.14), (Timestamp('2001-10-10 17:00:00'), 99.659999999999997), (Timestamp('2002-03-20 17:00:00'), 99.909999999999997)]\n",
      "2002-03-27 17:00:00 100.63\n",
      "average price 99.9033333333\n",
      "the current group is \n",
      "[(Timestamp('2002-04-19 17:00:00'), 101.41), (Timestamp('2002-06-03 17:00:00'), 101.11)]\n",
      "2002-06-14 17:00:00 101.8\n",
      "average price 101.26\n",
      "the current group is \n",
      "[(Timestamp('2002-04-03 17:00:00'), 102.59), (Timestamp('2002-04-30 17:00:00'), 102.34999999999999), (Timestamp('2002-06-17 17:00:00'), 102.11), (Timestamp('2002-06-28 17:00:00'), 102.43000000000001)]\n",
      "2002-07-12 17:00:00 103.05\n",
      "average price 102.37\n",
      "the current group is \n",
      "[(Timestamp('2002-07-18 17:00:00'), 103.31999999999999), (Timestamp('2002-10-30 17:00:00'), 103.47), (Timestamp('2002-11-22 17:00:00'), 104.06)]\n",
      "2002-11-29 17:00:00 104.19\n",
      "average price 103.616666667\n",
      "the current group is \n",
      "[(Timestamp('2001-08-13 17:00:00'), 104.3), (Timestamp('2001-08-22 17:00:00'), 104.3), (Timestamp('2001-08-28 17:00:00'), 104.39), (Timestamp('2002-12-03 17:00:00'), 104.90000000000001)]\n",
      "2002-12-11 17:00:00 104.98\n",
      "average price 104.4725\n",
      "the current group is \n",
      "[(Timestamp('2001-09-07 17:00:00'), 105.25), (Timestamp('2002-08-30 17:00:00'), 105.79000000000001)]\n",
      "2002-09-06 17:00:00 106.42\n",
      "average price 105.52\n",
      "the current group is \n",
      "[(Timestamp('2001-09-17 17:00:00'), 106.58), (Timestamp('2002-10-15 17:00:00'), 106.65000000000001)]\n",
      "2002-12-17 17:00:00 107.25\n",
      "average price 106.615\n",
      "the current group is \n",
      "[(Timestamp('2002-12-26 17:00:00'), 109.31999999999999), (Timestamp('2003-04-10 17:00:00'), 109.27)]\n",
      "2003-04-16 17:00:00 110.21\n",
      "average price 109.295\n",
      "the current group is \n",
      "[(Timestamp('2003-01-24 17:00:00'), 112.37), (Timestamp('2003-03-31 17:00:00'), 111.61), (Timestamp('2003-04-21 17:00:00'), 111.66)]\n",
      "2003-05-21 17:00:00 112.54\n",
      "average price 111.88\n",
      "the current group is \n",
      "[(Timestamp('2003-02-14 17:00:00'), 115.89), (Timestamp('2003-06-11 17:00:00'), 115.81999999999999), (Timestamp('2003-07-01 17:00:00'), 115.3)]\n",
      "2003-07-11 17:00:00 116.2\n",
      "average price 115.67\n"
     ]
    }
   ],
   "source": [
    "# support = into_arr(min_group,tpdata[:500].as_matrix(),threshold,True)\n",
    "# print(\"###################################################################\")\n",
    "resistance = into_arr(max_group,tpdata[:500].as_matrix(),threshold,False)"
   ]
  },
  {
   "cell_type": "code",
   "execution_count": 110,
   "metadata": {},
   "outputs": [
    {
     "data": {
      "text/plain": [
       "12"
      ]
     },
     "execution_count": 110,
     "metadata": {},
     "output_type": "execute_result"
    }
   ],
   "source": [
    "len(resistance)"
   ]
  },
  {
   "cell_type": "code",
   "execution_count": 111,
   "metadata": {
    "collapsed": true
   },
   "outputs": [],
   "source": [
    "def plot_sr(data,support,resist):\n",
    "    color=['b']\n",
    "    for i in support:\n",
    "        data = data.merge(i,how='left',left_on='Date_Time',right_index=True)\n",
    "        color.append('g')\n",
    "    for i in resist:\n",
    "        data = data.merge(i,how='left',left_on='Date_Time',right_index=True)\n",
    "        color.append('r')\n",
    "    data.plot(x='Date_Time',legend=False,color = color)\n",
    "    #print(data[:5])\n",
    "    plt.show()"
   ]
  },
  {
   "cell_type": "code",
   "execution_count": 112,
   "metadata": {},
   "outputs": [
    {
     "data": {
      "image/png": "[encoded data removed]",
      "text/plain": [
       "<matplotlib.figure.Figure at 0x7f82d8c32128>"
      ]
     },
     "metadata": {},
     "output_type": "display_data"
    }
   ],
   "source": [
    "plot_sr(tpdata[:500],support,resistance)"
   ]
  },
  {
   "cell_type": "code",
   "execution_count": null,
   "metadata": {
    "collapsed": true
   },
   "outputs": [],
   "source": []
  }
 ],
 "metadata": {
  "kernelspec": {
   "display_name": "Python 3",
   "language": "python",
   "name": "python3"
  },
  "language_info": {
   "codemirror_mode": {
    "name": "ipython",
    "version": 3
   },
   "file_extension": ".py",
   "mimetype": "text/x-python",
   "name": "python",
   "nbconvert_exporter": "python",
   "pygments_lexer": "ipython3",
   "version": "3.6.3"
  }
 },
 "nbformat": 4,
 "nbformat_minor": 2
}
