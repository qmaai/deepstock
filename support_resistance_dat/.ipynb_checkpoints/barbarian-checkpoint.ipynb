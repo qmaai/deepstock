{
 "cells": [
  {
   "cell_type": "code",
   "execution_count": 13,
   "metadata": {
    "collapsed": true
   },
   "outputs": [],
   "source": [
    "import numpy as np\n",
    "import pandas as pd\n",
    "from matplotlib import pyplot as plt"
   ]
  },
  {
   "cell_type": "code",
   "execution_count": 25,
   "metadata": {},
   "outputs": [
    {
     "name": "stdout",
     "output_type": "stream",
     "text": [
      "[['08/06/2001' 104.22]\n",
      " ['08/07/2001' 104.67]\n",
      " ['08/08/2001' 104.02]\n",
      " ['08/09/2001' 104.12]\n",
      " ['08/10/2001' 104.53]]\n"
     ]
    }
   ],
   "source": [
    "oil_future = pd.read_table(\"%40CL_Daily.txt\",sep=\",\",header=0,parse_dates=True)\n",
    "close = oil_future[['Date','Close']].as_matrix()\n",
    "print(close[:5])"
   ]
  },
  {
   "cell_type": "code",
   "execution_count": 26,
   "metadata": {
    "collapsed": true
   },
   "outputs": [],
   "source": [
    "from scipy.signal import savgol_filter as smooth\n",
    "# this function returns the local maxima and the minima\n",
    "# ltp is a list of [date, price]\n",
    "# n is the width of window to examine max and min\n",
    "# n has to be an odd number greater than 3\n",
    "# return: max and min [(date,price),(date,price),(),(),...]\n",
    "def max_min(ltp,n):\n",
    "    ltp_sm = smooth(ltp[:,1],n,3)\n",
    "    max_points = []\n",
    "    min_points = []\n",
    "    ltp_dif = np.zeros(ltp_sm.shape[0]-1)\n",
    "    ltp_dif = ltp_sm[1:]-ltp_sm[:-1]\n",
    "    center = int((n-1)/2)\n",
    "    for i in range(ltp_dif.shape[0]-n+2):\n",
    "        window = ltp_dif[i:i+n-1]\n",
    "        front = window[:center]\n",
    "        back = window[center:]\n",
    "        s_first = np.sum(front<0)\n",
    "        s_back = np.sum(back>0)\n",
    "        r_first = np.sum(front>0)\n",
    "        r_back = np.sum(back<0)\n",
    "        if(r_first == center and r_back == center):\n",
    "            max_points.append((ltp[i+center,0],ltp[i+center,1]))\n",
    "            # print(ltp[i+center])\n",
    "        if(s_first== center and s_back== center):\n",
    "            min_points.append((ltp[i+center,0],ltp[i+center,1]))\n",
    "            # print(ltp[i+center])\n",
    "    return max_points,min_points\n",
    "scanning_window=7"
   ]
  },
  {
   "cell_type": "code",
   "execution_count": 27,
   "metadata": {},
   "outputs": [
    {
     "name": "stdout",
     "output_type": "stream",
     "text": [
      "[('02/04/2002', 95.61), ('12/05/2001', 96.56), ('02/14/2002', 96.82), ('01/07/2002', 97.34), ('11/12/2001', 98.28), ('10/29/2001', 98.93), ('04/29/2002', 101.92), ('06/17/2002', 102.11), ('04/03/2002', 102.59), ('05/16/2002', 103.05), ('07/18/2002', 103.32), ('12/03/2002', 104.9), ('10/17/2002', 105.78), ('09/14/2001', 106.74), ('01/03/2003', 110.75), ('03/31/2003', 111.61), ('04/21/2003', 111.66), ('06/11/2003', 115.82), ('02/26/2003', 116.53)]\n",
      "[('11/19/2001', 93.88), ('01/18/2002', 94.03), ('12/12/2001', 94.68), ('02/07/2002', 94.95), ('02/22/2002', 96.15), ('11/06/2001', 96.46), ('04/15/2002', 99.03), ('06/10/2002', 100.5), ('05/06/2002', 100.78), ('06/20/2002', 101.46), ('11/14/2002', 101.79), ('07/08/2002', 101.94), ('07/25/2002', 102.23), ('08/17/2001', 102.83), ('12/06/2002', 104.23), ('10/10/2002', 105.57), ('09/18/2002', 106.19), ('01/09/2003', 108.57), ('04/07/2003', 108.61), ('03/24/2003', 108.99), ('06/23/2003', 114.09), ('07/25/2003', 115.79), ('08/19/2003', 116.32), ('03/04/2003', 116.67)]\n"
     ]
    }
   ],
   "source": [
    "# sort the max and min according to the price.\n",
    "# this facilitate clustering in next step\n",
    "maxima,minima = max_min(close[:500],scanning_window)\n",
    "max_points = sorted(maxima, key=lambda x: x[1])\n",
    "min_points = sorted(minima, key=lambda x: x[1])\n",
    "# max_pair = maxima[maxima[:,1].argsort()]\n",
    "# min_pair = minima[minima[:,1].argsort()]\n",
    "print(max_points)\n",
    "print(min_points)"
   ]
  },
  {
   "cell_type": "code",
   "execution_count": 28,
   "metadata": {
    "collapsed": true
   },
   "outputs": [],
   "source": [
    "# this function take in sorted date-price tupel and find the cluster\n",
    "# according to price and threshold given\n",
    "# it return a group in shape [[(date,price),(date,price),()...],[],...]\n",
    "def cluster(pairs, threshold):\n",
    "    groups = []\n",
    "    current = []\n",
    "    vl = 0\n",
    "    for pair in pairs:\n",
    "        # print(pair)\n",
    "        if not current:\n",
    "            current.append(pair)\n",
    "            vl = pair[1]\n",
    "            #print('1')\n",
    "        elif pair[1]-vl<threshold:\n",
    "            current.append(pair)\n",
    "            #print('2')\n",
    "        else:\n",
    "            if len(current)>1:\n",
    "                groups.append(current)\n",
    "            vl = pair[1]\n",
    "            current = [pair]\n",
    "            #print('3')\n",
    "    return groups\n",
    "threshold = 1"
   ]
  },
  {
   "cell_type": "code",
   "execution_count": 30,
   "metadata": {},
   "outputs": [
    {
     "name": "stdout",
     "output_type": "stream",
     "text": [
      "[[('11/19/2001', 93.88), ('01/18/2002', 94.03), ('12/12/2001', 94.68)], [('02/22/2002', 96.15), ('11/06/2001', 96.46)], [('06/10/2002', 100.5), ('05/06/2002', 100.78), ('06/20/2002', 101.46)], [('11/14/2002', 101.79), ('07/08/2002', 101.94), ('07/25/2002', 102.23)], [('10/10/2002', 105.57), ('09/18/2002', 106.19)], [('01/09/2003', 108.57), ('04/07/2003', 108.61), ('03/24/2003', 108.99)]]\n",
      "[[('02/04/2002', 95.61), ('12/05/2001', 96.56)], [('02/14/2002', 96.82), ('01/07/2002', 97.34)], [('11/12/2001', 98.28), ('10/29/2001', 98.93)], [('04/29/2002', 101.92), ('06/17/2002', 102.11), ('04/03/2002', 102.59)], [('05/16/2002', 103.05), ('07/18/2002', 103.32)], [('12/03/2002', 104.9), ('10/17/2002', 105.78)], [('01/03/2003', 110.75), ('03/31/2003', 111.61), ('04/21/2003', 111.66)]]\n"
     ]
    }
   ],
   "source": [
    "# max_points clustted together is called max_group\n",
    "max_group = cluster(max_points,threshold)\n",
    "min_group = cluster(min_points,threshold)\n",
    "print(min_group)\n",
    "print(max_group)"
   ]
  },
  {
   "cell_type": "markdown",
   "metadata": {},
   "source": [
    "transfer back to numpy array for easiness to index\n",
    "they are tuple in prior steps because np array only support\n",
    "one dtype. String and float can not co-exist. For sorting and\n",
    "clustering purposes, they have to be converted to tuple"
   ]
  },
  {
   "cell_type": "code",
   "execution_count": 39,
   "metadata": {
    "collapsed": true
   },
   "outputs": [],
   "source": [
    "# sort the groups based on the date and then return to np array\n",
    "# data is the total data [date,price]. Date should be in datetime64[D]\n",
    "# the output is of shape [[[date],[price]],[[date],[price]],...]\n",
    "def into_arr(group_list,data,threshold,support=True):\n",
    "    groups=[]\n",
    "    for group in group_list:\n",
    "        # sort based on time\n",
    "        group = sorted(group)\n",
    "        print(\"the current group is \")\n",
    "        print(group)\n",
    "        #print(group)\n",
    "        # print(np.asarray(group))\n",
    "        # extract date, price\n",
    "        date = np.asarray(group)[:,0]\n",
    "        # date= np.array(pd.to_datetime(date),dtype='datetime64[D]')\n",
    "        price = np.asarray(group)[:,1]\n",
    "        price = price.astype(np.float)\n",
    "        # form line, calculate when line start and stop\n",
    "        average_price = np.average(price)\n",
    "        mask_inside_range = np.bitwise_and(data[:,0] > date[0],data[:,0]<date[-1])\n",
    "        mask_after = data[:,0]>date[-1]\n",
    "        last_date = data[-1][0]\n",
    "        if support:\n",
    "            break_through = data[:,1] < average_price - threshold\n",
    "            if np.sum(np.bitwise_and(mask_inside_range,break_through))>1:\n",
    "                pass\n",
    "                #eliminate the chance the support is fake.                    \n",
    "        else:\n",
    "            break_through = data[:,1] > average_price + threshold\n",
    "            if np.sum(np.bitwise_and(mask_inside_range,break_through))>1:\n",
    "                pass\n",
    "                #eliminate the chance the resistance is fake.\n",
    "        break_through = np.bitwise_and(mask_after,break_through)\n",
    "        if np.sum(break_through) > 0:\n",
    "            # the support stops somewhere\n",
    "            last_date = data[np.argwhere(break_through)[0][0]][0]\n",
    "        print(last_date)\n",
    "        date_range = pd.date_range(date[0],last_date)\n",
    "        \n",
    "        df = pd.DataFrame({'average':[average_price for i in range(date_range.shape[0])]},index=date_range)\n",
    "        # df.set_index('Date')\n",
    "        # df.index = pd.to_datetime(df.index)\n",
    "        # print(date_range)\n",
    "        groups.append(df)\n",
    "    return groups"
   ]
  },
  {
   "cell_type": "code",
   "execution_count": 40,
   "metadata": {
    "scrolled": true
   },
   "outputs": [
    {
     "name": "stdout",
     "output_type": "stream",
     "text": [
      "the current group is \n",
      "[('02/04/2002', 95.61), ('12/05/2001', 96.56)]\n",
      "12/05/2002\n",
      "the current group is \n",
      "[('01/07/2002', 97.34), ('02/14/2002', 96.82)]\n",
      "08/06/2001\n",
      "the current group is \n",
      "[('10/29/2001', 98.93), ('11/12/2001', 98.28)]\n",
      "11/12/2002\n",
      "the current group is \n",
      "[('04/03/2002', 102.59), ('04/29/2002', 101.92), ('06/17/2002', 102.11)]\n",
      "08/06/2001\n",
      "the current group is \n",
      "[('05/16/2002', 103.05), ('07/18/2002', 103.32)]\n",
      "08/06/2001\n",
      "the current group is \n",
      "[('10/17/2002', 105.78), ('12/03/2002', 104.9)]\n",
      "12/16/2002\n",
      "the current group is \n",
      "[('01/03/2003', 110.75), ('03/31/2003', 111.61), ('04/21/2003', 111.66)]\n",
      "05/21/2003\n"
     ]
    }
   ],
   "source": [
    "resistance = into_arr(max_group,close[:500],threshold,False)\n",
    "# support = into_arr(min_group,close[:100],threshold,True)"
   ]
  },
  {
   "cell_type": "code",
   "execution_count": 36,
   "metadata": {},
   "outputs": [
    {
     "data": {
      "text/plain": [
       "[            average\n",
       " 2002-02-04   96.085\n",
       " 2002-02-05   96.085\n",
       " 2002-02-06   96.085\n",
       " 2002-02-07   96.085\n",
       " 2002-02-08   96.085\n",
       " 2002-02-09   96.085\n",
       " 2002-02-10   96.085\n",
       " 2002-02-11   96.085\n",
       " 2002-02-12   96.085\n",
       " 2002-02-13   96.085\n",
       " 2002-02-14   96.085\n",
       " 2002-02-15   96.085\n",
       " 2002-02-16   96.085\n",
       " 2002-02-17   96.085\n",
       " 2002-02-18   96.085\n",
       " 2002-02-19   96.085\n",
       " 2002-02-20   96.085\n",
       " 2002-02-21   96.085\n",
       " 2002-02-22   96.085\n",
       " 2002-02-23   96.085\n",
       " 2002-02-24   96.085\n",
       " 2002-02-25   96.085\n",
       " 2002-02-26   96.085\n",
       " 2002-02-27   96.085\n",
       " 2002-02-28   96.085\n",
       " 2002-03-01   96.085\n",
       " 2002-03-02   96.085\n",
       " 2002-03-03   96.085\n",
       " 2002-03-04   96.085\n",
       " 2002-03-05   96.085\n",
       " ...             ...\n",
       " 2002-11-06   96.085\n",
       " 2002-11-07   96.085\n",
       " 2002-11-08   96.085\n",
       " 2002-11-09   96.085\n",
       " 2002-11-10   96.085\n",
       " 2002-11-11   96.085\n",
       " 2002-11-12   96.085\n",
       " 2002-11-13   96.085\n",
       " 2002-11-14   96.085\n",
       " 2002-11-15   96.085\n",
       " 2002-11-16   96.085\n",
       " 2002-11-17   96.085\n",
       " 2002-11-18   96.085\n",
       " 2002-11-19   96.085\n",
       " 2002-11-20   96.085\n",
       " 2002-11-21   96.085\n",
       " 2002-11-22   96.085\n",
       " 2002-11-23   96.085\n",
       " 2002-11-24   96.085\n",
       " 2002-11-25   96.085\n",
       " 2002-11-26   96.085\n",
       " 2002-11-27   96.085\n",
       " 2002-11-28   96.085\n",
       " 2002-11-29   96.085\n",
       " 2002-11-30   96.085\n",
       " 2002-12-01   96.085\n",
       " 2002-12-02   96.085\n",
       " 2002-12-03   96.085\n",
       " 2002-12-04   96.085\n",
       " 2002-12-05   96.085\n",
       " \n",
       " [305 rows x 1 columns], Empty DataFrame\n",
       " Columns: [average]\n",
       " Index: [],             average\n",
       " 2001-10-29   98.605\n",
       " 2001-10-30   98.605\n",
       " 2001-10-31   98.605\n",
       " 2001-11-01   98.605\n",
       " 2001-11-02   98.605\n",
       " 2001-11-03   98.605\n",
       " 2001-11-04   98.605\n",
       " 2001-11-05   98.605\n",
       " 2001-11-06   98.605\n",
       " 2001-11-07   98.605\n",
       " 2001-11-08   98.605\n",
       " 2001-11-09   98.605\n",
       " 2001-11-10   98.605\n",
       " 2001-11-11   98.605\n",
       " 2001-11-12   98.605\n",
       " 2001-11-13   98.605\n",
       " 2001-11-14   98.605\n",
       " 2001-11-15   98.605\n",
       " 2001-11-16   98.605\n",
       " 2001-11-17   98.605\n",
       " 2001-11-18   98.605\n",
       " 2001-11-19   98.605\n",
       " 2001-11-20   98.605\n",
       " 2001-11-21   98.605\n",
       " 2001-11-22   98.605\n",
       " 2001-11-23   98.605\n",
       " 2001-11-24   98.605\n",
       " 2001-11-25   98.605\n",
       " 2001-11-26   98.605\n",
       " 2001-11-27   98.605\n",
       " ...             ...\n",
       " 2002-10-14   98.605\n",
       " 2002-10-15   98.605\n",
       " 2002-10-16   98.605\n",
       " 2002-10-17   98.605\n",
       " 2002-10-18   98.605\n",
       " 2002-10-19   98.605\n",
       " 2002-10-20   98.605\n",
       " 2002-10-21   98.605\n",
       " 2002-10-22   98.605\n",
       " 2002-10-23   98.605\n",
       " 2002-10-24   98.605\n",
       " 2002-10-25   98.605\n",
       " 2002-10-26   98.605\n",
       " 2002-10-27   98.605\n",
       " 2002-10-28   98.605\n",
       " 2002-10-29   98.605\n",
       " 2002-10-30   98.605\n",
       " 2002-10-31   98.605\n",
       " 2002-11-01   98.605\n",
       " 2002-11-02   98.605\n",
       " 2002-11-03   98.605\n",
       " 2002-11-04   98.605\n",
       " 2002-11-05   98.605\n",
       " 2002-11-06   98.605\n",
       " 2002-11-07   98.605\n",
       " 2002-11-08   98.605\n",
       " 2002-11-09   98.605\n",
       " 2002-11-10   98.605\n",
       " 2002-11-11   98.605\n",
       " 2002-11-12   98.605\n",
       " \n",
       " [380 rows x 1 columns], Empty DataFrame\n",
       " Columns: [average]\n",
       " Index: [], Empty DataFrame\n",
       " Columns: [average]\n",
       " Index: [],             average\n",
       " 2002-10-17   105.34\n",
       " 2002-10-18   105.34\n",
       " 2002-10-19   105.34\n",
       " 2002-10-20   105.34\n",
       " 2002-10-21   105.34\n",
       " 2002-10-22   105.34\n",
       " 2002-10-23   105.34\n",
       " 2002-10-24   105.34\n",
       " 2002-10-25   105.34\n",
       " 2002-10-26   105.34\n",
       " 2002-10-27   105.34\n",
       " 2002-10-28   105.34\n",
       " 2002-10-29   105.34\n",
       " 2002-10-30   105.34\n",
       " 2002-10-31   105.34\n",
       " 2002-11-01   105.34\n",
       " 2002-11-02   105.34\n",
       " 2002-11-03   105.34\n",
       " 2002-11-04   105.34\n",
       " 2002-11-05   105.34\n",
       " 2002-11-06   105.34\n",
       " 2002-11-07   105.34\n",
       " 2002-11-08   105.34\n",
       " 2002-11-09   105.34\n",
       " 2002-11-10   105.34\n",
       " 2002-11-11   105.34\n",
       " 2002-11-12   105.34\n",
       " 2002-11-13   105.34\n",
       " 2002-11-14   105.34\n",
       " 2002-11-15   105.34\n",
       " ...             ...\n",
       " 2002-11-17   105.34\n",
       " 2002-11-18   105.34\n",
       " 2002-11-19   105.34\n",
       " 2002-11-20   105.34\n",
       " 2002-11-21   105.34\n",
       " 2002-11-22   105.34\n",
       " 2002-11-23   105.34\n",
       " 2002-11-24   105.34\n",
       " 2002-11-25   105.34\n",
       " 2002-11-26   105.34\n",
       " 2002-11-27   105.34\n",
       " 2002-11-28   105.34\n",
       " 2002-11-29   105.34\n",
       " 2002-11-30   105.34\n",
       " 2002-12-01   105.34\n",
       " 2002-12-02   105.34\n",
       " 2002-12-03   105.34\n",
       " 2002-12-04   105.34\n",
       " 2002-12-05   105.34\n",
       " 2002-12-06   105.34\n",
       " 2002-12-07   105.34\n",
       " 2002-12-08   105.34\n",
       " 2002-12-09   105.34\n",
       " 2002-12-10   105.34\n",
       " 2002-12-11   105.34\n",
       " 2002-12-12   105.34\n",
       " 2002-12-13   105.34\n",
       " 2002-12-14   105.34\n",
       " 2002-12-15   105.34\n",
       " 2002-12-16   105.34\n",
       " \n",
       " [61 rows x 1 columns],             average\n",
       " 2003-01-03   111.34\n",
       " 2003-01-04   111.34\n",
       " 2003-01-05   111.34\n",
       " 2003-01-06   111.34\n",
       " 2003-01-07   111.34\n",
       " 2003-01-08   111.34\n",
       " 2003-01-09   111.34\n",
       " 2003-01-10   111.34\n",
       " 2003-01-11   111.34\n",
       " 2003-01-12   111.34\n",
       " 2003-01-13   111.34\n",
       " 2003-01-14   111.34\n",
       " 2003-01-15   111.34\n",
       " 2003-01-16   111.34\n",
       " 2003-01-17   111.34\n",
       " 2003-01-18   111.34\n",
       " 2003-01-19   111.34\n",
       " 2003-01-20   111.34\n",
       " 2003-01-21   111.34\n",
       " 2003-01-22   111.34\n",
       " 2003-01-23   111.34\n",
       " 2003-01-24   111.34\n",
       " 2003-01-25   111.34\n",
       " 2003-01-26   111.34\n",
       " 2003-01-27   111.34\n",
       " 2003-01-28   111.34\n",
       " 2003-01-29   111.34\n",
       " 2003-01-30   111.34\n",
       " 2003-01-31   111.34\n",
       " 2003-02-01   111.34\n",
       " ...             ...\n",
       " 2003-04-22   111.34\n",
       " 2003-04-23   111.34\n",
       " 2003-04-24   111.34\n",
       " 2003-04-25   111.34\n",
       " 2003-04-26   111.34\n",
       " 2003-04-27   111.34\n",
       " 2003-04-28   111.34\n",
       " 2003-04-29   111.34\n",
       " 2003-04-30   111.34\n",
       " 2003-05-01   111.34\n",
       " 2003-05-02   111.34\n",
       " 2003-05-03   111.34\n",
       " 2003-05-04   111.34\n",
       " 2003-05-05   111.34\n",
       " 2003-05-06   111.34\n",
       " 2003-05-07   111.34\n",
       " 2003-05-08   111.34\n",
       " 2003-05-09   111.34\n",
       " 2003-05-10   111.34\n",
       " 2003-05-11   111.34\n",
       " 2003-05-12   111.34\n",
       " 2003-05-13   111.34\n",
       " 2003-05-14   111.34\n",
       " 2003-05-15   111.34\n",
       " 2003-05-16   111.34\n",
       " 2003-05-17   111.34\n",
       " 2003-05-18   111.34\n",
       " 2003-05-19   111.34\n",
       " 2003-05-20   111.34\n",
       " 2003-05-21   111.34\n",
       " \n",
       " [139 rows x 1 columns]]"
      ]
     },
     "execution_count": 36,
     "metadata": {},
     "output_type": "execute_result"
    }
   ],
   "source": [
    "resistance"
   ]
  },
  {
   "cell_type": "code",
   "execution_count": 173,
   "metadata": {
    "collapsed": true
   },
   "outputs": [],
   "source": [
    "df = oil_future[['Date','Close']].set_index('Date')\n",
    "df.index=pd.to_datetime(df.index)\n",
    "df.index.name=None\n",
    "# df = df.loc[resistance[0].index[0]-20:resistance[0].index[0]+20,:]\n",
    "df = df.loc[resistance[0].index[0]-20:'2002-01-02',:]"
   ]
  },
  {
   "cell_type": "code",
   "execution_count": 174,
   "metadata": {},
   "outputs": [
    {
     "name": "stdout",
     "output_type": "stream",
     "text": [
      "            Close\n",
      "2001-10-23   98.9\n",
      "            Close\n",
      "2002-01-02  95.96\n",
      "2001-11-02 00:00:00\n",
      "            average\n",
      "2001-11-12    97.42\n",
      "            average\n",
      "2002-01-02    97.42\n"
     ]
    }
   ],
   "source": [
    "print(df.head(1))\n",
    "print(df.tail(1))"
   ]
  },
  {
   "cell_type": "code",
   "execution_count": 175,
   "metadata": {},
   "outputs": [
    {
     "data": {
      "text/plain": [
       "<matplotlib.axes._subplots.AxesSubplot at 0x7ff9c70f2e48>"
      ]
     },
     "execution_count": 175,
     "metadata": {},
     "output_type": "execute_result"
    }
   ],
   "source": [
    "# test = df.merge(resistance[0],how='inner',left_index=True,right_index=True)\n",
    "df.plot()\n",
    "# print(test)"
   ]
  },
  {
   "cell_type": "code",
   "execution_count": 176,
   "metadata": {},
   "outputs": [
    {
     "data": {
      "image/png": "[encoded data removed]",
      "text/plain": [
       "<matplotlib.figure.Figure at 0x7ff9c74134e0>"
      ]
     },
     "metadata": {},
     "output_type": "display_data"
    }
   ],
   "source": [
    "plt.show()"
   ]
  },
  {
   "cell_type": "code",
   "execution_count": null,
   "metadata": {
    "collapsed": true
   },
   "outputs": [],
   "source": []
  }
 ],
 "metadata": {
  "kernelspec": {
   "display_name": "Python 3",
   "language": "python",
   "name": "python3"
  },
  "language_info": {
   "codemirror_mode": {
    "name": "ipython",
    "version": 3
   },
   "file_extension": ".py",
   "mimetype": "text/x-python",
   "name": "python",
   "nbconvert_exporter": "python",
   "pygments_lexer": "ipython3",
   "version": "3.6.3"
  }
 },
 "nbformat": 4,
 "nbformat_minor": 2
}
