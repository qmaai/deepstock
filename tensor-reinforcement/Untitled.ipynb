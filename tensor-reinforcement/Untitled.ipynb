{
 "cells": [
  {
   "cell_type": "code",
   "execution_count": 77,
   "metadata": {},
   "outputs": [],
   "source": [
    "import numpy as np\n",
    "import pdb\n",
    "\n",
    "# here the prices refer to the average proce of a day\n",
    "def generate_actions_from_price_data(prices):\n",
    "    old_profit = 0\n",
    "    golden_actions = []\n",
    "    for action_list in global_array:\n",
    "        #the below method can also be replaces with algorithms which generates action non-iteravely but \n",
    "        #i am too lazy to do that and got lot of computation power\n",
    "        profit, result_list = find_profit_from_given_action(prices, action_list)\n",
    "        if profit >= old_profit:\n",
    "            old_profit = profit\n",
    "            golden_actions = result_list\n",
    "    print(old_profit)\n",
    "    print(golden_actions)\n",
    "    return golden_actions\n",
    "\n",
    "\n",
    "def iteration_based_result():\n",
    "    profit = 0\n",
    "    #for max profit, machine don't have to hold as it knows future price it just have to sell and buy\n",
    "    total_iteration_list = []\n",
    "    action_list = [1,2]\n",
    "    episode = 9\n",
    "    global_array = []\n",
    "    #pdb.set_trace();\n",
    "    get_iteration_actions_recursive(action_list, [], episode, global_array)\n",
    "    return global_array\n",
    "\n",
    "def find_profit_from_given_action(prices, actions):\n",
    "    portfilio = 0\n",
    "    portfilio_value = 0\n",
    "    result_list = []\n",
    "    for index, action in enumerate(actions):\n",
    "        price = prices[index]\n",
    "        if action == 1: #buy\n",
    "            portfilio += 1\n",
    "            portfilio_value -= price\n",
    "        elif action == 2: #sell\n",
    "            portfilio -= 1\n",
    "            portfilio_value += price\n",
    "        result_list.append([action, portfilio])\n",
    "    profit = portfilio_value + (portfilio) * prices[-1]\n",
    "    return profit, result_list\n",
    "\n",
    "\n",
    "def get_iteration_actions_recursive(action_list, temp_array, episode, global_array):\n",
    "    #base case\n",
    "    if episode == 0:\n",
    "        global_array.append(temp_array)\n",
    "        return global_array\n",
    "    for i in action_list:\n",
    "        new_temp_array = temp_array + [i]\n",
    "        get_iteration_actions_recursive(action_list, new_temp_array, episode -1, global_array)\n",
    "global_array =iteration_based_result()\n"
   ]
  },
  {
   "cell_type": "code",
   "execution_count": 78,
   "metadata": {},
   "outputs": [],
   "source": [
    "prices = [1,10,5,2,9,16,20,14,13,12]\n",
    "# def generate_actions_from_price_data(prices):\n",
    "#     max_sell = prices[-1]\n",
    "#     actions=[]\n",
    "#     for price in prices[::-1][1:]:\n",
    "#         if price>max_sell:\n",
    "#             actions.append(2)\n",
    "#             max_sell=price\n",
    "#         else:\n",
    "#             actions.append(1)\n",
    "#     actions = actions[::-1]\n",
    "#     return actions"
   ]
  },
  {
   "cell_type": "code",
   "execution_count": 81,
   "metadata": {},
   "outputs": [
    {
     "name": "stdout",
     "output_type": "stream",
     "text": [
      "[1, 7]\n",
      "[2, 8]\n",
      "[3, 9]\n",
      "[4, 10]\n",
      "[5, 11]\n",
      "[6, 12]\n"
     ]
    }
   ],
   "source": [
    "a= [1,2,3,4,5,6]\n",
    "b= [7,8,9,10,11,12]\n",
    "for i in map(list,zip(a,b)):\n",
    "    print(i)"
   ]
  }
 ],
 "metadata": {
  "kernelspec": {
   "display_name": "Python 3",
   "language": "python",
   "name": "python3"
  },
  "language_info": {
   "codemirror_mode": {
    "name": "ipython",
    "version": 3
   },
   "file_extension": ".py",
   "mimetype": "text/x-python",
   "name": "python",
   "nbconvert_exporter": "python",
   "pygments_lexer": "ipython3",
   "version": "3.6.5"
  }
 },
 "nbformat": 4,
 "nbformat_minor": 2
}
